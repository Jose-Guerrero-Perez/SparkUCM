{
 "cells": [
  {
   "cell_type": "markdown",
   "id": "e2c36968-b9f2-4bf8-b67c-8c6b187ec9b4",
   "metadata": {},
   "source": [
    "# Un motor de ingesta sencillo para el dataset de vuelos\n",
    "\n",
    "### Recuerda borrar todas las líneas que dicen `raise NotImplementedError`\n",
    "\n",
    "El trabajo final consiste en la implementación guiada de un esqueleto de motor de ingesta para ficheros JSON recibidos diariamente con información de los vuelos que han tenido lugar en el día indicado en el nombre del fichero entre dos aeropuertos de los Estados Unidos.\n",
    "* La estructura de cada JSON puede consultarse abriendo con un editor de texto cualquiera de los ficheros.\n",
    "* El significado de cada una de las columnas puede consultarse en el fichero config.json que se encuentra en la carpeta config del repositorio.\n",
    "\n",
    "Vamos a probar nuestro paquete del motor de ingesta. Antes de ejecutar este notebook, es imprescindible haber completado todo el código del motor de ingesta. \n",
    "El notebook solamente valida que el código del motor de ingesta con el cual se ha generado el paquete sea correcto. Para ello, el orden en el que debemos leer, entender y completar los ficheros del repositorio es:\n",
    "\n",
    "1. Clase `MotorIngesta` en el fichero `motor_ingesta.py`. Sólo hay que completar la función `ingesta_fichero`\n",
    "2. (Opcional) Completar los tests `test_aplana` y `test_ingesta_fichero` en el fichero `test_ingesta.py`\n",
    "3. Clase `FlujoDiario` en el fichero `flujo_diario.py`. Completar primero el inicializador y luego el método `procesa_diario`. Al ir completando el código de este método, veremos que a su vez necesitamos completar las dos funciones siguientes.\n",
    "4. Función `aniade_hora_utc` en el fichero `agregaciones.py`\n",
    "5. (Opcional) El test de dicha función se llama  `test_aniade_hora_utc` en el fichero `test_ingesta.py`\n",
    "6. Función `aniade_intervalos_por_aeropuerto` en el fichero `agregaciones.py`\n",
    "7. (Opcional) El test de dicha función se llama `test_aniade_intervalos_por_aeropuerto` en el fichero `test_ingesta.py`"
   ]
  },
  {
   "cell_type": "code",
   "id": "c094eb8b-70fa-4df4-9673-4abb88538aac",
   "metadata": {
    "tags": [],
    "ExecuteTime": {
     "end_time": "2025-04-22T23:18:26.505925Z",
     "start_time": "2025-04-22T23:18:25.168910Z"
    }
   },
   "source": [
    "from motor_ingesta.agregaciones import aniade_hora_utc, aniade_intervalos_por_aeropuerto\n",
    "from motor_ingesta.flujo_diario import FlujoDiario\n",
    "!pip install loguru==0.7.1"
   ],
   "outputs": [
    {
     "name": "stdout",
     "output_type": "stream",
     "text": [
      "Requirement already satisfied: loguru==0.7.1 in c:\\users\\joseg\\pycharmprojects\\spark-tarea-final\\.venv\\lib\\site-packages (0.7.1)\n",
      "Requirement already satisfied: colorama>=0.3.4 in c:\\users\\joseg\\pycharmprojects\\spark-tarea-final\\.venv\\lib\\site-packages (from loguru==0.7.1) (0.4.6)\n",
      "Requirement already satisfied: win32-setctime>=1.0.0 in c:\\users\\joseg\\pycharmprojects\\spark-tarea-final\\.venv\\lib\\site-packages (from loguru==0.7.1) (1.2.0)\n"
     ]
    }
   ],
   "execution_count": 2
  },
  {
   "cell_type": "markdown",
   "id": "6cd3c5f4-d0f8-48a6-9cf2-95011e916646",
   "metadata": {},
   "source": [
    "## Instalamos el wheel en el cluster. "
   ]
  },
  {
   "cell_type": "code",
   "id": "9ffd4cc4-888b-4f86-91f0-6e2fb2d36147",
   "metadata": {
    "tags": [],
    "ExecuteTime": {
     "end_time": "2025-04-22T23:18:29.999656Z",
     "start_time": "2025-04-22T23:18:28.619955Z"
    }
   },
   "source": "!pip install --force-reinstall \"C:/Users/joseg/PycharmProjects/spark-tarea-final/dist/motor_ingesta-0.1.0-py3-none-any.whl\"",
   "outputs": [
    {
     "name": "stdout",
     "output_type": "stream",
     "text": [
      "Processing c:\\users\\joseg\\pycharmprojects\\spark-tarea-final\\dist\\motor_ingesta-0.1.0-py3-none-any.whl\n",
      "Installing collected packages: motor-ingesta\n",
      "  Attempting uninstall: motor-ingesta\n",
      "    Found existing installation: motor-ingesta 0.1.0\n",
      "    Not uninstalling motor-ingesta at c:\\users\\joseg\\pycharmprojects\\spark-tarea-final, outside environment C:\\Users\\joseg\\PycharmProjects\\spark-tarea-final\\.venv\n",
      "    Can't uninstall 'motor-ingesta'. No files were found to uninstall.\n",
      "Successfully installed motor-ingesta-0.1.0\n"
     ]
    }
   ],
   "execution_count": 3
  },
  {
   "cell_type": "markdown",
   "id": "08c2b607-b1ac-40d4-b439-f9d1775fe17d",
   "metadata": {
    "deletable": false,
    "editable": false,
    "nbgrader": {
     "cell_type": "markdown",
     "checksum": "0b86cb75d3279fd2c37567cfcadc8282",
     "grade": false,
     "grade_id": "cell-e7e47b57728a3497",
     "locked": true,
     "schema_version": 3,
     "solution": false,
     "task": false
    },
    "tags": []
   },
   "source": [
    "### Probamos la ingesta de un fichero\n",
    "\n",
    "**Ejercicio 1 (2 puntos)**. Ingestar el fichero **`2023-01-01.json`** utilizando el motor de ingesta completo. Debe crearse el objeto de la clase MotorIngesta y utilizar el método `ingesta_fichero`, dejando el resultado en la variable `flights_df`. La variable `flujo_diario` contiene un objeto FlujoDiario inicializado con el path de configuración anterior, y lo vamos a usar ahora solo para leer adecuadamente la configuración y pasársela al objeto `motor_ingesta` como el argumento config.\n",
    "\n",
    "* Este ejercicio requiere haber completado previamente el código del paquete de Python y haber generado el fichero .whl, y por tanto, la puntuación del ejercicio se debe a ese trabajo."
   ]
  },
  {
   "cell_type": "code",
   "id": "a218d7f9-a274-424d-b1bd-5c2e80c8265a",
   "metadata": {
    "deletable": false,
    "nbgrader": {
     "cell_type": "code",
     "checksum": "34de26b267263009f0b64630904f826e",
     "grade": false,
     "grade_id": "ingesta_fichero",
     "locked": false,
     "schema_version": 3,
     "solution": true,
     "task": false
    },
    "tags": [],
    "ExecuteTime": {
     "end_time": "2025-04-22T23:18:49.053044Z",
     "start_time": "2025-04-22T23:18:34.934093Z"
    }
   },
   "source": [
    "# imports necesarios\n",
    "from motor_ingesta.motor_ingesta import MotorIngesta\n",
    "\n",
    "path_config_flujo_diario = \"C:/Users/joseg/PycharmProjects/spark-tarea-final/config/config.json\"       # ruta del fichero config.json, que no pertenece al paquete\n",
    "path_json_primer_dia = \"C:/Users/joseg/Downloads/flights_json/landing/2023-01-01.json\"\n",
    "\n",
    "flujo_diario = FlujoDiario(path_config_flujo_diario)\n",
    "motor_ingesta = MotorIngesta(flujo_diario.config)\n",
    "flights_df = motor_ingesta.ingesta_fichero(path_json_primer_dia)\n",
    "\n",
    "\n",
    "# YOUR CODE HERE\n",
    "#raise NotImplementedError"
   ],
   "outputs": [],
   "execution_count": 4
  },
  {
   "cell_type": "code",
   "id": "0536b275-3592-4dd5-bd99-576d0039c883",
   "metadata": {
    "deletable": false,
    "editable": false,
    "nbgrader": {
     "cell_type": "code",
     "checksum": "b779d274c03920f7902ecf1ba28ef59e",
     "grade": true,
     "grade_id": "ingesta-tests",
     "locked": true,
     "points": 1,
     "schema_version": 3,
     "solution": false,
     "task": false
    },
    "tags": [],
    "ExecuteTime": {
     "end_time": "2025-04-22T23:20:38.127758Z",
     "start_time": "2025-04-22T23:20:36.036828Z"
    }
   },
   "source": [
    "assert(flights_df.count() == 15856)\n",
    "assert(len(flights_df.columns) == 18)\n",
    "dtypes = dict(flights_df.dtypes)\n",
    "assert(dtypes[\"Diverted\"] == \"boolean\")\n",
    "assert(dtypes[\"ArrTime\"] == \"int\")\n",
    "assert(flights_df.schema[\"Dest\"].metadata == {\"comment\": \"Destination Airport IATA code (3 letters)\"})"
   ],
   "outputs": [],
   "execution_count": 5
  },
  {
   "cell_type": "markdown",
   "id": "1e03479e-42a6-4ee7-9f34-ebc661294c06",
   "metadata": {
    "deletable": false,
    "editable": false,
    "nbgrader": {
     "cell_type": "markdown",
     "checksum": "3db784f6afa844cf5c8ff545533b6c4a",
     "grade": false,
     "grade_id": "cell-d3f1684d9a8578bb",
     "locked": true,
     "schema_version": 3,
     "solution": false,
     "task": false
    },
    "tags": []
   },
   "source": [
    "### Probamos la función de añadir la hora en formato UTC\n",
    "\n",
    "**Ejercicio 2 (2 puntos)** Probar la función de añadir hora UTC con el DF `flights_df` construido anteriormente. El resultado debe dejarse en la variable `flights_with_utc`. Recuerda que esto no es propiamente un test unitario.\n",
    "\n",
    "* Este ejercicio requiere haber completado previamente el código de la función `aniade_hora_utc` del paquete de Python y haber generado el fichero .whl, y por tanto, la puntuación del ejercicio se debe a ese trabajo."
   ]
  },
  {
   "cell_type": "code",
   "id": "15c6e45d-ef89-41f0-821d-39a24de9245e",
   "metadata": {
    "deletable": false,
    "nbgrader": {
     "cell_type": "code",
     "checksum": "3674aeefedb405cd73689ee930980846",
     "grade": false,
     "grade_id": "flights-utc",
     "locked": false,
     "schema_version": 3,
     "solution": true,
     "task": false
    },
    "tags": [],
    "ExecuteTime": {
     "end_time": "2025-04-22T23:20:40.815550Z",
     "start_time": "2025-04-22T23:20:40.187811Z"
    }
   },
   "source": [
    "# import necesarios\n",
    "from motor_ingesta.agregaciones import aniade_hora_utc\n",
    "\n",
    "\n",
    "flights_with_utc = aniade_hora_utc(flujo_diario.spark,flights_df)\n",
    "\n",
    "# YOUR CODE HERE\n",
    "#raise NotImplementedError"
   ],
   "outputs": [],
   "execution_count": 6
  },
  {
   "cell_type": "code",
   "id": "d490ed43-a3f2-455c-94a9-f074448469f8",
   "metadata": {
    "deletable": false,
    "editable": false,
    "nbgrader": {
     "cell_type": "code",
     "checksum": "6600ce9efa93f23fcafd8a5c4571af25",
     "grade": true,
     "grade_id": "flights-utc-tests",
     "locked": true,
     "points": 2,
     "schema_version": 3,
     "solution": false,
     "task": false
    },
    "tags": [],
    "ExecuteTime": {
     "end_time": "2025-04-22T23:21:34.699497Z",
     "start_time": "2025-04-22T23:20:44.400142Z"
    }
   },
   "source": [
    "from pyspark.sql import functions as F\n",
    "assert(flights_with_utc.where(\"FlightTime is null\").count() == 266)\n",
    "types = dict(flights_with_utc.dtypes)\n",
    "assert(flights_with_utc.dtypes[18] == (\"FlightTime\", \"timestamp\"))  # FlightTime debe ser la última columna\n",
    "\n",
    "first_row = flights_with_utc.where(\"OriginAirportID = 12884\").select(F.min(\"FlightTime\").cast(\"string\").alias(\"FlightTime\")).first()\n",
    "assert(first_row.FlightTime == \"2023-01-01 10:59:00\")"
   ],
   "outputs": [],
   "execution_count": 7
  },
  {
   "cell_type": "markdown",
   "id": "2f241ea1-fe78-44da-825d-a9426de1dd24",
   "metadata": {
    "deletable": false,
    "editable": false,
    "nbgrader": {
     "cell_type": "markdown",
     "checksum": "d4b7d83307caa7e39620489749764e78",
     "grade": false,
     "grade_id": "cell-068b74be5a0b9aaa",
     "locked": true,
     "schema_version": 3,
     "solution": false,
     "task": false
    },
    "tags": []
   },
   "source": [
    "## Probamos la función de añadir las columnas con la hora del siguiente vuelo, su aerolínea y el intervalo de tiempo transcurrido\n",
    "\n",
    "**Ejercicio 3 (2.5 puntos)** Invocar a la función de añadir intervalos por aeropuerto, partiendo de la variable `flights_with_utc` del apartado anterior, dejando el resultado devuelto por la función en la variable `df_with_next_flight` cacheada.\n",
    "\n",
    "* Este ejercicio requiere haber completado previamente el código de la función `aniade_intervalos_por_aeropuerto` en el paquete de Python y haber generado el fichero .whl, y por tanto, la puntuación del ejercicio se debe a ese trabajo."
   ]
  },
  {
   "cell_type": "code",
   "id": "e04f88ca-5267-4821-af63-e301012e94d4",
   "metadata": {
    "deletable": false,
    "nbgrader": {
     "cell_type": "code",
     "checksum": "54149f06e69c8b3d8f8f356c4af06fd9",
     "grade": false,
     "grade_id": "flights-intervalos",
     "locked": false,
     "schema_version": 3,
     "solution": true,
     "task": false
    },
    "tags": [],
    "ExecuteTime": {
     "end_time": "2025-04-22T23:21:39.153033Z",
     "start_time": "2025-04-22T23:21:38.949961Z"
    }
   },
   "source": [
    "# imports necesarios\n",
    "from motor_ingesta.agregaciones import aniade_intervalos_por_aeropuerto\n",
    "\n",
    "df_with_next_flight = aniade_intervalos_por_aeropuerto(flights_with_utc)\n",
    "\n",
    "# YOUR CODE HERE\n",
    "#raise NotImplementedError"
   ],
   "outputs": [],
   "execution_count": 8
  },
  {
   "cell_type": "code",
   "id": "bd7abe87-4b35-46b8-9376-895d92330fb7",
   "metadata": {
    "deletable": false,
    "editable": false,
    "nbgrader": {
     "cell_type": "code",
     "checksum": "e89190d3c04bf02b372ce8df78f18be9",
     "grade": true,
     "grade_id": "flights-intervalos-test",
     "locked": true,
     "points": 2.5,
     "schema_version": 3,
     "solution": false,
     "task": false
    },
    "tags": [],
    "ExecuteTime": {
     "end_time": "2025-04-22T23:22:07.325977Z",
     "start_time": "2025-04-22T23:21:42.545102Z"
    }
   },
   "source": [
    "assert(df_with_next_flight.dtypes[19] == (\"FlightTime_next\", \"timestamp\"))\n",
    "assert(df_with_next_flight.dtypes[20] == (\"Airline_next\", \"string\"))\n",
    "assert(df_with_next_flight.dtypes[21] == (\"diff_next\", \"bigint\"))\n",
    "\n",
    "first_row = df_with_next_flight.where(\"OriginAirportID = 12884\")\\\n",
    "                               .select(F.col(\"FlightTime\").cast(\"string\"), \n",
    "                                       F.col(\"FlightTime_next\").cast(\"string\"), \n",
    "                                       F.col(\"Airline_next\"),\n",
    "                                       F.col(\"diff_next\")).sort(\"FlightTime\").first()\n",
    "\n",
    "assert(first_row.FlightTime_next == \"2023-01-01 16:36:00\")\n",
    "assert(first_row.Airline_next == \"9E\")\n",
    "assert(first_row.diff_next == 20220)"
   ],
   "outputs": [],
   "execution_count": 9
  },
  {
   "cell_type": "markdown",
   "id": "b3f76bd5-37f3-4afc-8ffb-6a6b6cb5f4c3",
   "metadata": {
    "deletable": false,
    "editable": false,
    "nbgrader": {
     "cell_type": "markdown",
     "checksum": "8b2fd2f171470ce5d27ba06300f08677",
     "grade": false,
     "grade_id": "cell-a3539980f6a4e471",
     "locked": true,
     "schema_version": 3,
     "solution": false,
     "task": false
    },
    "tags": []
   },
   "source": [
    "## Corregimos que el último vuelo de cada aeropuerto y cada día tiene valor nulo en las 3 columnas `_next`\n",
    "\n",
    "**Ejercicio 4 (2.5 puntos)**\n",
    "\n",
    "Tal como está implementada la lógica del flujo diario, el último vuelo de cada día no tendrá informada la columna FlightTime_next porque no se dispone todavía de datos del día siguiente. Se pide **corregir este comportamiento** para solucionar los valores nulos, modificando el código del método `procesa_diario` de manera que, antes de escribir los datos del día actual, se hayan corregido las tres columnas `_next` en los datos del día anterior al que estamos ingestando. Una manera simple (aunque no necesariamente óptima) de conseguirlo es:\n",
    "* Leer de la tabla la partición que se escribió el día previo, si existiera dicha tabla y dicha partición.\n",
    "* Añadir al DF devuelto por `aniade_hora_utc` las 3 columnas que le faltan para tener la misma estructura que la tabla, que son `FlightTime_next`, `Airline_next` y `diff_next` (pueden ser en ese orden si la función `aniade_intervalos_por_aeropuerto` se ha implementado para añadirlas en ese orden), pero sin darles valor (con valor None, convirtiendo cada columna al tipo de dato adecuado para que después encaje con la tabla existente).\n",
    "* Unir el DF del día previo y el que acabamos de calcular\n",
    "* Invocar a `aniade_intervalos_por_aeropuerto` pasando como argumento el DF resultante de la unión.\n",
    "\n",
    "Aparte de un test unitario (que se deja como optativo pero sin puntuación), la manera de comprobar el funcionamiento será invocar a `procesa_diario` del flujo diario, con los ficheros de dos días consecutivos, y después comprobar lo que se ha escrito en la tabla tras la ingesta del segundo fichero. Lo probaremos con los días 1 y 2 de enero de 2023.\n",
    "\n",
    "* Este ejercicio requiere haber completado previamente el código del paquete de Python y haber generado el fichero .whl, y por tanto, la puntuación del ejercicio se debe a ese trabajo."
   ]
  },
  {
   "cell_type": "code",
   "id": "60a8f73b-f989-4ac2-8625-34e9e3743197",
   "metadata": {
    "deletable": false,
    "nbgrader": {
     "cell_type": "code",
     "checksum": "0cc3bf8f53f02529c5da731e260b8c57",
     "grade": false,
     "grade_id": "procesa-diario",
     "locked": false,
     "schema_version": 3,
     "solution": true,
     "task": false
    },
    "tags": [],
    "ExecuteTime": {
     "end_time": "2025-04-22T23:29:21.930739Z",
     "start_time": "2025-04-22T23:28:26.418497Z"
    }
   },
   "source": [
    "path_json_primer_dia = \"C:/Users/joseg/Downloads/flights_json/landing/2023-01-01.json\"\n",
    "path_json_segundo_dia = \"C:/Users/joseg/Downloads/flights_json/landing/2023-01-02.json\"  # path del fichero 2023-01-02.json\n",
    "\n",
    "# Invoca al método procesa_diario del flujo con el path del fichero 2023-01-01.json\n",
    "# Después invoca al método de nuevo con el path del fichero 2023-01-02.json\n",
    "\n",
    "flujo_diario.procesa_diario(path_json_primer_dia)\n",
    "flujo_diario.procesa_diario(path_json_segundo_dia)\n",
    "\n",
    "\n",
    "\n",
    "# YOUR CODE HERE\n",
    "#raise NotImplementedError"
   ],
   "outputs": [
    {
     "name": "stderr",
     "output_type": "stream",
     "text": [
      "\u001B[32m2025-04-23 01:28:28.719\u001B[0m | \u001B[1mINFO    \u001B[0m | \u001B[36mmotor_ingesta.flujo_diario\u001B[0m:\u001B[36mprocesa_diario\u001B[0m:\u001B[36m59\u001B[0m - \u001B[1mNo se han podido leer datos del día 2022-12-31: [TABLE_OR_VIEW_NOT_FOUND] The table or view `default`.`flights` cannot be found. Verify the spelling and correctness of the schema and catalog.\n",
      "If you did not qualify the name with a schema, verify the current_schema() output, or qualify the name with the correct schema and catalog.\n",
      "To tolerate the error on drop use DROP VIEW IF EXISTS or DROP TABLE IF EXISTS.;\n",
      "'UnresolvedRelation [default, flights], [], false\n",
      "\u001B[0m\n",
      "\u001B[32m2025-04-23 01:28:56.710\u001B[0m | \u001B[1mINFO    \u001B[0m | \u001B[36mmotor_ingesta.flujo_diario\u001B[0m:\u001B[36mprocesa_diario\u001B[0m:\u001B[36m57\u001B[0m - \u001B[1mLeída partición del día 2023-01-01 con éxito\u001B[0m\n"
     ]
    }
   ],
   "execution_count": 11
  },
  {
   "cell_type": "code",
   "id": "693fa18d-77e3-4e5a-9243-13ecc9e0d2b8",
   "metadata": {
    "deletable": false,
    "editable": false,
    "nbgrader": {
     "cell_type": "code",
     "checksum": "b967ae19d8e854ebe370fd146fd86f68",
     "grade": true,
     "grade_id": "tests-unitarios",
     "locked": true,
     "points": 2.5,
     "schema_version": 3,
     "solution": false,
     "task": false
    },
    "tags": [],
    "ExecuteTime": {
     "end_time": "2025-04-22T23:35:28.239953Z",
     "start_time": "2025-04-22T23:35:27.765308Z"
    }
   },
   "source": [
    "vuelos = flujo_diario.spark.read.table(\"default.flights\").sort(\"Origin\", \"FlightTime\")\n",
    "assert(vuelos.count() == 33931)\n",
    "row = vuelos.where(\"FlightDate = '2023-01-01' and  Origin = 'ABE' and DepTime = 1734\").first()\n",
    "assert(row.diff_next == 44220)"
   ],
   "outputs": [],
   "execution_count": 12
  },
  {
   "cell_type": "markdown",
   "id": "2fff13aa-4672-4038-8afd-d0773546f622",
   "metadata": {
    "deletable": false,
    "editable": false,
    "nbgrader": {
     "cell_type": "markdown",
     "checksum": "603d2e3dc558735a0429356e1a91c287",
     "grade": false,
     "grade_id": "cell-84b4251b85b7176b",
     "locked": true,
     "schema_version": 3,
     "solution": false,
     "task": false
    },
    "tags": []
   },
   "source": [
    "## Ejercicio opcional\n",
    "\n",
    "**Ejercicio opcional (1 punto)** Completa los cuatro tests unitarios que encontrarás en el fichero `test_ingesta.py`. No tienes que escribir más código en este notebook.\n",
    "\n",
    "- Se podrá optar a una calificación final de hasta 9.0 puntos sin resolver este ejercicio."
   ]
  }
 ],
 "metadata": {
  "kernelspec": {
   "display_name": "Python 3 (ipykernel)",
   "language": "python",
   "name": "python3"
  },
  "language_info": {
   "codemirror_mode": {
    "name": "ipython",
    "version": 3
   },
   "file_extension": ".py",
   "mimetype": "text/x-python",
   "name": "python",
   "nbconvert_exporter": "python",
   "pygments_lexer": "ipython3",
   "version": "3.8.16"
  }
 },
 "nbformat": 4,
 "nbformat_minor": 5
}
